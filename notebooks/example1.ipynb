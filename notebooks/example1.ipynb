{
 "cells": [
  {
   "cell_type": "code",
   "execution_count": 5,
   "metadata": {},
   "outputs": [
    {
     "name": "stdout",
     "output_type": "stream",
     "text": [
      "c:\\Users\\aniyant\\Visual-Code-Projects\\ml-project\\Insurance-Premium-Prediction\n",
      "c:\\Users\\aniyant\\Visual-Code-Projects\\ml-project\\Insurance-Premium-Prediction\\insurance\n",
      "done\n"
     ]
    }
   ],
   "source": [
    "import os\n",
    "folders = {\n",
    "    \"component\" : [\"data_ingestion.py\",\"data_transformation.py\",\"data_validation.py\",\"model_trainer.py\",\"model_evaluation.py\",\"model_pusher.py\",\"__init__.py\"],\n",
    "    \"config\" : [\"configuration.py\",\"__init__.py\"],\n",
    "    \"constant\" : [\"__init__.py\"],\n",
    "    \"entity\" : [\"config_entity.py\",\"artifact_entity.py\",\"model_factory.py\",\"__init__.py\"],\n",
    "    \"exception\" : [\"__init__.py\"],\n",
    "    \"logger\" : [\"__init__.py\"],\n",
    "    \"pipeline\" : [\"pipeline.py\",\"__init__.py\"],\n",
    "    \"util\" : [\"util.py\",\"__init.py\"]\n",
    "}\n",
    "\n",
    "print(os.getcwd())\n",
    "\n",
    "root = os.getcwd()\n",
    "folds = os.path.join(root,'insurance')\n",
    "print(folds)\n",
    "\n",
    "for k,v in folders.items():\n",
    "    for i in v:\n",
    "        os.makedirs(os.path.join(folds,k),exist_ok=True)\n",
    "        file = os.path.join(folds,k,i)\n",
    "        with open(file,\"w\") as f:\n",
    "            pass\n",
    "        f.close()\n",
    "\n",
    "print('done')"
   ]
  },
  {
   "cell_type": "code",
   "execution_count": 4,
   "metadata": {},
   "outputs": [
    {
     "data": {
      "text/plain": [
       "'c:\\\\Users\\\\aniyant\\\\Visual-Code-Projects\\\\ml-project\\\\Insurance-Premium-Prediction'"
      ]
     },
     "execution_count": 4,
     "metadata": {},
     "output_type": "execute_result"
    }
   ],
   "source": [
    "os.getcwd()"
   ]
  },
  {
   "cell_type": "code",
   "execution_count": 3,
   "metadata": {},
   "outputs": [],
   "source": [
    "os.chdir('c:\\\\Users\\\\aniyant\\\\Visual-Code-Projects\\\\ml-project\\\\Insurance-Premium-Prediction')"
   ]
  },
  {
   "cell_type": "code",
   "execution_count": null,
   "metadata": {},
   "outputs": [],
   "source": []
  }
 ],
 "metadata": {
  "kernelspec": {
   "display_name": "Python 3.8.5 ('base')",
   "language": "python",
   "name": "python3"
  },
  "language_info": {
   "codemirror_mode": {
    "name": "ipython",
    "version": 3
   },
   "file_extension": ".py",
   "mimetype": "text/x-python",
   "name": "python",
   "nbconvert_exporter": "python",
   "pygments_lexer": "ipython3",
   "version": "3.8.5"
  },
  "orig_nbformat": 4,
  "vscode": {
   "interpreter": {
    "hash": "64a986a97bacbbb46df90e1cd1db6f5606b1be209c2d738a7cd60452d2dc1efa"
   }
  }
 },
 "nbformat": 4,
 "nbformat_minor": 2
}
